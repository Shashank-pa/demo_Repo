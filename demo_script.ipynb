{
 "cells": [
  {
   "cell_type": "code",
   "execution_count": 3,
   "metadata": {},
   "outputs": [],
   "source": [
    "import pandas as pd\n",
    "import numpy as np\n",
    "import datetime as dt"
   ]
  },
  {
   "cell_type": "code",
   "execution_count": 4,
   "metadata": {},
   "outputs": [],
   "source": [
    "end = dt.datetime.today()\n",
    "start = end - dt.timedelta(365)"
   ]
  },
  {
   "cell_type": "code",
   "execution_count": 7,
   "metadata": {},
   "outputs": [
    {
     "name": "stdout",
     "output_type": "stream",
     "text": [
      "This is a demo script and we need to check how they clone it.\n",
      "This is a demo script and we need to check how they clone it.\n",
      "This is a demo script and we need to check how they clone it.\n",
      "This is a demo script and we need to check how they clone it.\n",
      "This is a demo script and we need to check how they clone it.\n",
      "This is a demo script and we need to check how they clone it.\n",
      "This is a demo script and we need to check how they clone it.\n",
      "This is a demo script and we need to check how they clone it.\n",
      "This is a demo script and we need to check how they clone it.\n",
      "This is a demo script and we need to check how they clone it.\n"
     ]
    }
   ],
   "source": [
    "for i in range(0,10):\n",
    "    print('This is a demo script and we need to check how they clone it.')"
   ]
  },
  {
   "cell_type": "code",
   "execution_count": null,
   "metadata": {},
   "outputs": [],
   "source": []
  }
 ],
 "metadata": {
  "kernelspec": {
   "display_name": "Python 3",
   "language": "python",
   "name": "python3"
  },
  "language_info": {
   "codemirror_mode": {
    "name": "ipython",
    "version": 3
   },
   "file_extension": ".py",
   "mimetype": "text/x-python",
   "name": "python",
   "nbconvert_exporter": "python",
   "pygments_lexer": "ipython3",
   "version": "3.13.1"
  }
 },
 "nbformat": 4,
 "nbformat_minor": 2
}
